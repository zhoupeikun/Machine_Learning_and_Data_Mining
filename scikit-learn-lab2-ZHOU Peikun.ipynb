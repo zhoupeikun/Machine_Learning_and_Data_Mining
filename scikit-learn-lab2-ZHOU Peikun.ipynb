{
 "cells": [
  {
   "cell_type": "code",
   "execution_count": 3,
   "metadata": {
    "collapsed": false
   },
   "outputs": [
    {
     "name": "stdout",
     "output_type": "stream",
     "text": [
      "[1 2 1 0 0 0 2 1 2 0]\n",
      "Knn accuracy 0.90000000000000002220\n",
      "LinearSVC accuracy 0.90000000000000002220\n",
      "Logistic_regression accuracy 0.90000000000000002220\n"
     ]
    }
   ],
   "source": [
    "# Import classes\n",
    "import numpy as np\n",
    "# import matplotlib.pyplot as plt\n",
    "from sklearn import datasets\n",
    "\n",
    "# Load and parse the data file\n",
    "iris = datasets.load_iris()\n",
    "iris_X = iris.data\n",
    "iris_y = iris.target\n",
    "np.unique(iris_y)\n",
    "\n",
    "# Split iris data in train and test data\n",
    "# A random permutation, to split the data randomly\n",
    "np.random.seed(0)\n",
    "indices = np.random.permutation(len(iris_X))\n",
    "iris_X_train = iris_X[indices[:-10]]\n",
    "iris_y_train = iris_y[indices[:-10]]\n",
    "iris_X_test  = iris_X[indices[-10:]]\n",
    "iris_y_test  = iris_y[indices[-10:]]\n",
    "\n",
    "# Create figure\n",
    "# plt.figure(1)\n",
    "\n",
    "# Train a k-nearest-neighbor model\n",
    "# Create and fit a k-nearest-neighbor classifier\n",
    "from sklearn.neighbors import KNeighborsClassifier\n",
    "knn = KNeighborsClassifier()\n",
    "knn.fit(iris_X_train, iris_y_train)\n",
    "\n",
    "\n",
    "# Evaluate model on test instances and comput test error\n",
    "from sklearn.metrics import accuracy_score\n",
    "print knn.predict(iris_X_test)\n",
    "accuracy_score_knn = accuracy_score(iris_y_test, knn.predict(iris_X_test))\n",
    "print \"Knn accuracy \"+\"{:10.20f}\".format(accuracy_score_knn)\n",
    "\n",
    "\n",
    "# 1\n",
    "# Linear SVC\n",
    "# Create and fit a LinearSVC classifier\n",
    "from sklearn.svm import SVC, LinearSVC\n",
    "linearsvc = LinearSVC()\n",
    "linearsvc = linearsvc.fit(iris_X_train, iris_y_train)\n",
    "accuracy_score_linearsvc = accuracy_score(iris_y_test, linearsvc.predict(iris_X_test))\n",
    "print \"LinearSVC accuracy \"+\"{:10.20f}\".format(accuracy_score_linearsvc)\n",
    "\n",
    "#\n",
    "#  2\n",
    "#  Light SVC\n",
    "# from gat.classifiers import SVC_Light\n",
    "# svc_light = SVC_Light(kernel = 'linear')\n",
    "# svc_light = svc_light.fit(iris_X_train, iris_y_train)\n",
    "# accuracy_score_svclight = accuracy_score(iris_y_test, svc_light.predict(iris_X_test))\n",
    "# print \"{:10.20f}\".format(accuracy_score_svclight)\n",
    "\n",
    "\n",
    "# 3\n",
    "# Random forest classifier\n",
    "# import nltk\n",
    "# from nltk.classify.scikitlearn import SklearnClassifier\n",
    "# random_forest = SklearnClassifier()\n",
    "# random_forest.fit(iris_X_train, iris_y_train)\n",
    "# accuracy_score_randomforest = accuracy_score(iris_y_test, random_forest.predict(iris_X_test))\n",
    "# print \"{:10.20f}\".format(accuracy_score_randomforest)\n",
    "\n",
    "# 4\n",
    "# Ada boost classifer\n",
    "# from sklearn.ensemble import AdaBoostClassifier\n",
    "# ada_boost = AdaBoostClassifer()\n",
    "# ada_boost.fit(iris_X_train, iris_y_train)\n",
    "# accuracy_score_adaboost = accuracy_score(iris_y_test, ada_boost.predict(iris_X_test))\n",
    "# print \"{:10.20f}\".format(accuracy_score_adaboost)\n",
    "\n",
    "# 5\n",
    "# LogisticRegression Classifier\n",
    "from sklearn.linear_model import LogisticRegression\n",
    "logistic_regression = LogisticRegression()\n",
    "logistic_regression = logistic_regression.fit(iris_X_train, iris_y_train)\n",
    "accuracy_score_logistic = accuracy_score(iris_y_test, logistic_regression.predict(iris_X_test))\n",
    "print \"Logistic_regression accuracy \"+\"{:10.20f}\".format(accuracy_score_logistic)\n"
   ]
  },
  {
   "cell_type": "code",
   "execution_count": 4,
   "metadata": {
    "collapsed": false
   },
   "outputs": [
    {
     "name": "stdout",
     "output_type": "stream",
     "text": [
      "Knn cross_validation score: 0.98691678691678708102\n",
      "LinearSVC cross_validation score: 0.96690497639264239016\n",
      "LogisticRegression cross_validation score: 0.94679557007988390804\n"
     ]
    }
   ],
   "source": [
    "\n",
    "# Cross-validation evaluation\n",
    "from sklearn import cross_validation\n",
    "from sklearn import metrics\n",
    "\n",
    "#knn\n",
    "scores_knn = cross_validation.cross_val_score(knn, iris.data, iris.target, scoring=\"f1_macro\")\n",
    "print \"Knn cross_validation score: \" + \"{:10.20f}\".format(scores_knn.mean())\n",
    "#linear_SVC\n",
    "scores_linearsvc = cross_validation.cross_val_score(linearsvc, iris.data, iris.target, scoring=\"f1_macro\")\n",
    "print \"LinearSVC cross_validation score: \" + \"{:10.20f}\".format(scores_linearsvc.mean())\n",
    "\n",
    "logistic_regression = LogisticRegression()\n",
    "logistic_regression = logistic_regression.fit(iris_X_train, iris_y_train)\n",
    "scores_logistic = cross_validation.cross_val_score(logistic_regression, iris.data, iris.target, scoring=\"f1_macro\")\n",
    "print \"LogisticRegression cross_validation score: \" + \"{:10.20f}\".format(scores_logistic.mean())\n",
    "\n"
   ]
  },
  {
   "cell_type": "code",
   "execution_count": 24,
   "metadata": {
    "collapsed": true
   },
   "outputs": [],
   "source": [
    "import matplotlib.pyplot as plt\n",
    "plt.figure(1)\n",
    "colors = np.random.rand(3)\n",
    "area = np.pi * (15 * np.random.rand(100))**2\n",
    "plt.scatter([1, 2, 3], [scores_knn.mean(), scores_linearsvc.mean(),  scores_logistic.mean()], s=area, c=colors, alpha=0.5)\n",
    "plt.plot([1,2,3], [0.90000000000000002220, 0.90000000000000002220, 0.90000000000000002220])\n",
    "plt.ylabel(\"Accuracy        cross_validation scores \")\n",
    "plt.xlabel(\"    knn                               linearSVC                                      Logistic\")\n",
    "plt.show()"
   ]
  },
  {
   "cell_type": "code",
   "execution_count": null,
   "metadata": {
    "collapsed": true
   },
   "outputs": [],
   "source": [
    "# According this graph, before using cross validation, the relusts of three classifers(Knn, LinearSVC, and LOgistic regression) are the same accuracy.\n",
    "# After we using cross validation, we could get better results. And Knn classifer has the best accuracy.\n",
    "# ZHOU Peikun "
   ]
  }
 ],
 "metadata": {
  "kernelspec": {
   "display_name": "Python [Root]",
   "language": "python",
   "name": "Python [Root]"
  },
  "language_info": {
   "codemirror_mode": {
    "name": "ipython",
    "version": 2
   },
   "file_extension": ".py",
   "mimetype": "text/x-python",
   "name": "python",
   "nbconvert_exporter": "python",
   "pygments_lexer": "ipython2",
   "version": "2.7.12"
  }
 },
 "nbformat": 4,
 "nbformat_minor": 0
}
