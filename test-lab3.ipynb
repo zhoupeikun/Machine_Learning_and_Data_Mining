{
 "cells": [
  {
   "cell_type": "code",
   "execution_count": 1,
   "metadata": {
    "collapsed": true
   },
   "outputs": [],
   "source": [
    "class AdaboostClassifier:\n",
    "    def  __init__ (self):\n",
    "        self = ensemble.AdaBoostClassifier();\n",
    "        \n",
    "    def fit(self, X, Y):\n",
    "        self.fit(X, Y);\n",
    "        return self;\n",
    "    \n",
    "    def predict(self, X):\n",
    "        Y = self.predict(X);\n",
    "        return Y;\n",
    "    \n",
    "    "
   ]
  },
  {
   "cell_type": "code",
   "execution_count": null,
   "metadata": {
    "collapsed": true
   },
   "outputs": [],
   "source": []
  }
 ],
 "metadata": {
  "kernelspec": {
   "display_name": "Python [Root]",
   "language": "python",
   "name": "Python [Root]"
  },
  "language_info": {
   "codemirror_mode": {
    "name": "ipython",
    "version": 2
   },
   "file_extension": ".py",
   "mimetype": "text/x-python",
   "name": "python",
   "nbconvert_exporter": "python",
   "pygments_lexer": "ipython2",
   "version": "2.7.12"
  }
 },
 "nbformat": 4,
 "nbformat_minor": 0
}
