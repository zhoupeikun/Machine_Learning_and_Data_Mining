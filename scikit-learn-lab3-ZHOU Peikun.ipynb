{
 "cells": [
  {
   "cell_type": "code",
   "execution_count": 46,
   "metadata": {
    "collapsed": false
   },
   "outputs": [
    {
     "name": "stdout",
     "output_type": "stream",
     "text": [
      "[2 1 0 2 0 2 0 1 1 1 2 1 1 1 1 0 1 1 0 0 2 1 0 0 2 0 0 1 1 0 2 1 0 2 2 1 0\n",
      " 1 1 1 2 0 2 0 0 1 2 2 2 2 1 2 1 1 2 2 2 2 1 2 1 0 2 1 1 1 1 2 0 0 2 1 0 0\n",
      " 1 0 2 1 0 1 2 1 0 2 2 2 2 0 0 2 2 0 2 0 2 2 0 0 2 0 0 0 1 2 2 0 0 0 1 1 0\n",
      " 0 1 0 2 1 2 1 0 2 0 2 0 0 2 0 2 1 1 1 2 2 1 1 0 1 2 2 0 1]\n"
     ]
    }
   ],
   "source": [
    "# Import classes\n",
    "import numpy as np\n",
    "# import matplotlib.pyplot as plt\n",
    "from sklearn import datasets\n",
    "\n",
    "# Load and parse the data file\n",
    "iris = datasets.load_iris()\n",
    "iris_X = iris.data\n",
    "iris_y = iris.target\n",
    "np.unique(iris_y)\n",
    "\n",
    "# Split iris data in train and test data\n",
    "# A random permutation, to split the data randomly\n",
    "np.random.seed(0)\n",
    "indices = np.random.permutation(len(iris_X))\n",
    "iris_X_train = iris_X[indices[:-10]]\n",
    "iris_y_train = iris_y[indices[:-10]]\n",
    "iris_X_test  = iris_X[indices[-10:]]\n",
    "iris_y_test  = iris_y[indices[-10:]]\n",
    "    \n",
    "print iris_y_train"
   ]
  },
  {
   "cell_type": "code",
   "execution_count": 88,
   "metadata": {
    "collapsed": false
   },
   "outputs": [],
   "source": [
    "class MajorityClassifier:\n",
    "    def  __init__ (self):\n",
    "        return \n",
    "        \n",
    "# Fit the model using X as training data and Y as target values\n",
    "    def fit(self, X, Y):\n",
    "        from collections import Counter\n",
    "        c = Counter(Y)\n",
    "        self.majority = c.most_common(1)[0][0]\n",
    "        return  self.majority\n",
    "    \n",
    "# Predict the class labels for the provided data\n",
    "    def predict(self, X):\n",
    "        array = []\n",
    "        for ele in X:\n",
    "            array.append(self.majority)\n",
    "        return array;"
   ]
  },
  {
   "cell_type": "code",
   "execution_count": 90,
   "metadata": {
    "collapsed": false
   },
   "outputs": [
    {
     "data": {
      "text/plain": [
       "[2, 2, 2, 2, 2, 2, 2, 2, 2, 2]"
      ]
     },
     "execution_count": 90,
     "metadata": {},
     "output_type": "execute_result"
    }
   ],
   "source": [
    "majorityClassifier = MajorityClassifier()\n",
    "majorityClassifier.fit(iris_X_train, iris_y_train)\n",
    "majorityClassifier.predict(iris_X_test)"
   ]
  },
  {
   "cell_type": "code",
   "execution_count": 91,
   "metadata": {
    "collapsed": false
   },
   "outputs": [
    {
     "name": "stdout",
     "output_type": "stream",
     "text": [
      "[1 1 1 0 0 0 2 1 2 0]\n",
      "Majority classifier's accuracy is:\n",
      "0.2\n"
     ]
    }
   ],
   "source": [
    "from sklearn.metrics import accuracy_score\n",
    "accuracy_majority = accuracy_score(iris_y_test, majorityClassifier.predict(iris_X_test))\n",
    "print iris_y_test\n",
    "print \"Majority classifier's accuracy is:\" \n",
    "print accuracy_majority"
   ]
  },
  {
   "cell_type": "code",
   "execution_count": 92,
   "metadata": {
    "collapsed": true
   },
   "outputs": [],
   "source": [
    "# According Majority Classifier, I only count the number of most frequent label  A then we think \n",
    "# that datas in iris_X_test are mostly matching with A, that is to say, the most possible matching result is A\n",
    "# In this case, the result is correct but the accuracy is pretty low.\n",
    "\n",
    "# So we need to design a classifer with higher performance than majority classifier\n",
    "\n",
    "# Option classifer\n",
    "# We know that there are three kinds of lables(species), 0, 1, and 2, each of them is corresponding to 4 values(Speal length a,\n",
    "# Speall width b , Petal length c, Petal width d)\n",
    "# For each kind of lable, we calculate the average value v of a, b, c, d and get three values v0, v1, v2. \n",
    "# Then we compare the v-train(v0, v1, v2) with v-test, if v-train whoese lable is x has the min distance with v-test, \n",
    "# then we think the lable of test data is x. "
   ]
  },
  {
   "cell_type": "code",
   "execution_count": null,
   "metadata": {
    "collapsed": true
   },
   "outputs": [],
   "source": []
  }
 ],
 "metadata": {
  "kernelspec": {
   "display_name": "Python [Root]",
   "language": "python",
   "name": "Python [Root]"
  },
  "language_info": {
   "codemirror_mode": {
    "name": "ipython",
    "version": 2
   },
   "file_extension": ".py",
   "mimetype": "text/x-python",
   "name": "python",
   "nbconvert_exporter": "python",
   "pygments_lexer": "ipython2",
   "version": "2.7.12"
  }
 },
 "nbformat": 4,
 "nbformat_minor": 0
}
